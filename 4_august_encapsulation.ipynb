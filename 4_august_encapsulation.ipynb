{
  "nbformat": 4,
  "nbformat_minor": 0,
  "metadata": {
    "colab": {
      "provenance": []
    },
    "kernelspec": {
      "name": "python3",
      "display_name": "Python 3"
    },
    "language_info": {
      "name": "python"
    }
  },
  "cells": [
    {
      "cell_type": "code",
      "execution_count": null,
      "metadata": {
        "id": "0uzSkgMsMBqu"
      },
      "outputs": [],
      "source": [
        "\n",
        "#Public\n",
        "class laptop:\n",
        "  def __init__(self,name):\n",
        "    self.name=name\n",
        "  def public_method(self):\n",
        "    print(f\"{self.name}\")\n"
      ]
    },
    {
      "cell_type": "code",
      "source": [
        "l1=laptop(\"dell\")"
      ],
      "metadata": {
        "id": "BI-cGZiCZARj"
      },
      "execution_count": null,
      "outputs": []
    },
    {
      "cell_type": "code",
      "source": [
        "l1.name"
      ],
      "metadata": {
        "colab": {
          "base_uri": "https://localhost:8080/",
          "height": 36
        },
        "id": "NgMWGdzMZLhX",
        "outputId": "bf8aa29e-d861-48b3-c816-cf3a1153fd78"
      },
      "execution_count": null,
      "outputs": [
        {
          "output_type": "execute_result",
          "data": {
            "text/plain": [
              "'dell'"
            ],
            "application/vnd.google.colaboratory.intrinsic+json": {
              "type": "string"
            }
          },
          "metadata": {},
          "execution_count": 14
        }
      ]
    },
    {
      "cell_type": "code",
      "source": [
        "#protected\n",
        "class laptop:\n",
        "  def __init__(self,name):\n",
        "    self._name=name\n",
        "class pc(laptop):\n",
        "  def __init__(self,name):\n",
        "    self._name=name\n",
        "    return f\"{self._name}\"\n"
      ],
      "metadata": {
        "id": "fXxVv6FUZuEG"
      },
      "execution_count": null,
      "outputs": []
    },
    {
      "cell_type": "code",
      "source": [
        "\n"
      ],
      "metadata": {
        "id": "nxw33fwzdNGO"
      },
      "execution_count": null,
      "outputs": []
    },
    {
      "cell_type": "code",
      "source": [
        "p1._name"
      ],
      "metadata": {
        "colab": {
          "base_uri": "https://localhost:8080/",
          "height": 36
        },
        "id": "G4qki3TCdW6p",
        "outputId": "2ddf7fdd-bc3a-4e8a-9bc6-4df84f9cb7c8"
      },
      "execution_count": null,
      "outputs": [
        {
          "output_type": "execute_result",
          "data": {
            "text/plain": [
              "'dell'"
            ],
            "application/vnd.google.colaboratory.intrinsic+json": {
              "type": "string"
            }
          },
          "metadata": {},
          "execution_count": 22
        }
      ]
    },
    {
      "cell_type": "code",
      "source": [
        "p1"
      ],
      "metadata": {
        "id": "6CX-weBYdZ0O"
      },
      "execution_count": null,
      "outputs": []
    }
  ]
}